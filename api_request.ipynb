{
 "cells": [
  {
   "cell_type": "code",
   "execution_count": 1,
   "metadata": {},
   "outputs": [],
   "source": [
    "import requests"
   ]
  },
  {
   "cell_type": "code",
   "execution_count": null,
   "metadata": {},
   "outputs": [],
   "source": []
  },
  {
   "cell_type": "code",
   "execution_count": 70,
   "metadata": {},
   "outputs": [],
   "source": [
    "payload = {\n",
    "    'NAME_CONTRACT_TYPE': 'Revolving loans',\n",
    "    'CODE_GENDER': 'M',\n",
    "    'FLAG_OWN_CAR': 'N',\n",
    "    'FLAG_OWN_REALTY': 'Y',\n",
    "    'CNT_CHILDREN': 0.0,\n",
    "    'AMT_INCOME_TOTAL': 202500.0,\n",
    "    'AMT_CREDIT': 406597.5,\n",
    "    'AMT_ANNUITY': 24700.5,\n",
    "    'AMT_GOODS_PRICE': 351000.0,\n",
    "    'NAME_INCOME_TYPE': 'Working',\n",
    "    'NAME_EDUCATION_TYPE': 'Secondary / secondary special',\n",
    "    'NAME_FAMILY_STATUS': 'Single / not married',\n",
    "    'NAME_HOUSING_TYPE': 'House / apartment',\n",
    "    'DAYS_BIRTH': -9461,\n",
    "    'DAYS_EMPLOYED': 637.0,\n",
    "    'FLAG_MOBIL': 1.0,\n",
    "    'FLAG_EMAIL': 0.0,\n",
    "    'CNT_FAM_MEMBERS': 1.0,\n",
    "    'ORGANIZATION_TYPE': 'Business Entity Type 3'\n",
    "}"
   ]
  },
  {
   "cell_type": "code",
   "execution_count": null,
   "metadata": {},
   "outputs": [],
   "source": []
  },
  {
   "cell_type": "code",
   "execution_count": 109,
   "metadata": {},
   "outputs": [],
   "source": [
    "register = requests.post(\"http://localhost:8000/getPrediction\", json=payload)"
   ]
  },
  {
   "cell_type": "code",
   "execution_count": 102,
   "metadata": {},
   "outputs": [
    {
     "name": "stdout",
     "output_type": "stream",
     "text": [
      "13\n"
     ]
    }
   ],
   "source": [
    "#register\n",
    "print(register.json())"
   ]
  }
 ],
 "metadata": {
  "kernelspec": {
   "display_name": "Python 3.10.4 ('projet7')",
   "language": "python",
   "name": "python3"
  },
  "language_info": {
   "codemirror_mode": {
    "name": "ipython",
    "version": 3
   },
   "file_extension": ".py",
   "mimetype": "text/x-python",
   "name": "python",
   "nbconvert_exporter": "python",
   "pygments_lexer": "ipython3",
   "version": "3.10.4"
  },
  "orig_nbformat": 4,
  "vscode": {
   "interpreter": {
    "hash": "095f24a805a878bd0069ca1eaa90523ad17603d6ae60db8549105c0e43566220"
   }
  }
 },
 "nbformat": 4,
 "nbformat_minor": 2
}
