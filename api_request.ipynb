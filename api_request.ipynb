{
 "cells": [
  {
   "cell_type": "code",
   "execution_count": 110,
   "metadata": {},
   "outputs": [],
   "source": [
    "import requests"
   ]
  },
  {
   "cell_type": "code",
   "execution_count": 111,
   "metadata": {},
   "outputs": [],
   "source": [
    "payload = {\n",
    "    'NAME_CONTRACT_TYPE': 'Revolving loans',\n",
    "    'CODE_GENDER': 'M',\n",
    "    'FLAG_OWN_CAR': 'N',\n",
    "    'FLAG_OWN_REALTY': 'Y',\n",
    "    'CNT_CHILDREN': 0.0,\n",
    "    'AMT_INCOME_TOTAL': 202500.0,\n",
    "    'AMT_CREDIT': 406597.5,\n",
    "    'AMT_ANNUITY': 24700.5,\n",
    "    'AMT_GOODS_PRICE': 351000.0,\n",
    "    'NAME_INCOME_TYPE': 'Working',\n",
    "    'NAME_EDUCATION_TYPE': 'Secondary / secondary special',\n",
    "    'NAME_FAMILY_STATUS': 'Single / not married',\n",
    "    'NAME_HOUSING_TYPE': 'House / apartment',\n",
    "    'DAYS_BIRTH': -9461,\n",
    "    'DAYS_EMPLOYED': 637.0,\n",
    "    'FLAG_MOBIL': 1.0,\n",
    "    'FLAG_EMAIL': 0.0,\n",
    "    'CNT_FAM_MEMBERS': 1.0,\n",
    "    'ORGANIZATION_TYPE': 'Business Entity Type 3'\n",
    "}"
   ]
  },
  {
   "cell_type": "code",
   "execution_count": 113,
   "metadata": {},
   "outputs": [],
   "source": [
    "register = requests.post(\"http://localhost:8000/getPrediction\", json=payload)"
   ]
  },
  {
   "cell_type": "code",
   "execution_count": null,
   "metadata": {},
   "outputs": [],
   "source": [
    "# L'objet requête qui contiendra le résultat\n",
    "register"
   ]
  },
  {
   "cell_type": "code",
   "execution_count": null,
   "metadata": {},
   "outputs": [],
   "source": [
    "# Le message de retour de l'API\n",
    "register.json()"
   ]
  }
 ],
 "metadata": {
  "language_info": {
   "name": "python"
  },
  "orig_nbformat": 4
 },
 "nbformat": 4,
 "nbformat_minor": 2
}
