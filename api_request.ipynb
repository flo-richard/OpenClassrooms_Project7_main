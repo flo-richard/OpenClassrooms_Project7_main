{
 "cells": [
  {
   "cell_type": "code",
   "execution_count": 30,
   "metadata": {},
   "outputs": [],
   "source": [
    "import requests\n",
    "import numpy as np"
   ]
  },
  {
   "cell_type": "code",
   "execution_count": 31,
   "metadata": {},
   "outputs": [],
   "source": [
    "payload = {\n",
    "    'NAME_CONTRACT_TYPE': 'Cash loans',\n",
    "    'CODE_GENDER': 'M',\n",
    "    'FLAG_OWN_CAR': 'N',\n",
    "    'FLAG_OWN_REALTY': 'Y',\n",
    "    'CNT_CHILDREN': 0.0,\n",
    "    'AMT_INCOME_TOTAL': 202500.0,\n",
    "    'AMT_CREDIT': 406597.5,\n",
    "    'AMT_ANNUITY': 24700.5,\n",
    "    'AMT_GOODS_PRICE': 351000.0,\n",
    "    'NAME_INCOME_TYPE': 'Working',\n",
    "    'NAME_EDUCATION_TYPE': 'Secondary / secondary special',\n",
    "    'NAME_FAMILY_STATUS': 'Single / not married',\n",
    "    'NAME_HOUSING_TYPE': 'House / apartment',\n",
    "    'DAYS_BIRTH': -9461,\n",
    "    'DAYS_EMPLOYED': 637.0,\n",
    "    'FLAG_MOBIL': 1.0,\n",
    "    'FLAG_EMAIL': 0.0,\n",
    "    'CNT_FAM_MEMBERS': 1.0,\n",
    "    'ORGANIZATION_TYPE': 'Business Entity Type 3'\n",
    "}"
   ]
  },
  {
   "cell_type": "code",
   "execution_count": 35,
   "metadata": {},
   "outputs": [
    {
     "data": {
      "text/plain": [
       "{'Status': 'Success',\n",
       " 'User info': {'NAME_CONTRACT_TYPE': 'Cash loans',\n",
       "  'CODE_GENDER': 'M',\n",
       "  'FLAG_OWN_CAR': 'N',\n",
       "  'FLAG_OWN_REALTY': 'Y',\n",
       "  'CNT_CHILDREN': 0.0,\n",
       "  'AMT_INCOME_TOTAL': 202500.0,\n",
       "  'AMT_CREDIT': 406597.5,\n",
       "  'AMT_ANNUITY': 24700.5,\n",
       "  'AMT_GOODS_PRICE': 351000.0,\n",
       "  'NAME_INCOME_TYPE': 'Working',\n",
       "  'NAME_EDUCATION_TYPE': 'Secondary / secondary special',\n",
       "  'NAME_FAMILY_STATUS': 'Single / not married',\n",
       "  'NAME_HOUSING_TYPE': 'House / apartment',\n",
       "  'DAYS_BIRTH': -9461,\n",
       "  'DAYS_EMPLOYED': 637.0,\n",
       "  'FLAG_MOBIL': 1.0,\n",
       "  'FLAG_EMAIL': 0.0,\n",
       "  'CNT_FAM_MEMBERS': 1.0,\n",
       "  'ORGANIZATION_TYPE': 'Business Entity Type 3',\n",
       "  'INCOME_CREDIT_RATE': 0.4980355265342261,\n",
       "  'ANNUITY_INCOME_RATE': 0.12197777777777778,\n",
       "  'PAYMENT_RATE': 0.06074926678103038},\n",
       " 'Prediction': 0,\n",
       " 'Explainer': {'Feature_idx': [0, 19, 21, 14, 7, 4],\n",
       "  'Scaled_value': [-0.26233192802111216,\n",
       "   0.054840500164391466,\n",
       "   0.03921031933844192,\n",
       "   -0.004465388994519708,\n",
       "   -0.0032533657976985624,\n",
       "   -0.0026759689754851552]}}"
      ]
     },
     "execution_count": 35,
     "metadata": {},
     "output_type": "execute_result"
    }
   ],
   "source": [
    "register = requests.post(\"http://localhost:8000/getPrediction\", json=payload)\n",
    "result = register.json()\n",
    "result"
   ]
  },
  {
   "cell_type": "code",
   "execution_count": 33,
   "metadata": {},
   "outputs": [
    {
     "data": {
      "text/plain": [
       "{'Feature_idx': [0, 19, 21, 4, 20, 13],\n",
       " 'Scaled_value': [-0.265042327921928,\n",
       "  0.06634003842240299,\n",
       "  0.03724781727051893,\n",
       "  -0.012101517219809744,\n",
       "  -0.008409039243783677,\n",
       "  0.007846797982403338]}"
      ]
     },
     "execution_count": 33,
     "metadata": {},
     "output_type": "execute_result"
    }
   ],
   "source": [
    "result['Explainer']"
   ]
  }
 ],
 "metadata": {
  "kernelspec": {
   "display_name": "Python 3.10.4 ('projet7')",
   "language": "python",
   "name": "python3"
  },
  "language_info": {
   "codemirror_mode": {
    "name": "ipython",
    "version": 3
   },
   "file_extension": ".py",
   "mimetype": "text/x-python",
   "name": "python",
   "nbconvert_exporter": "python",
   "pygments_lexer": "ipython3",
   "version": "3.10.4"
  },
  "orig_nbformat": 4,
  "vscode": {
   "interpreter": {
    "hash": "095f24a805a878bd0069ca1eaa90523ad17603d6ae60db8549105c0e43566220"
   }
  }
 },
 "nbformat": 4,
 "nbformat_minor": 2
}
